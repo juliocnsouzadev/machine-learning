{
  "nbformat": 4,
  "nbformat_minor": 0,
  "metadata": {
    "colab": {
      "name": "ML Project Skeleton",
      "provenance": [],
      "include_colab_link": true
    },
    "kernelspec": {
      "name": "python3",
      "display_name": "Python 3"
    }
  },
  "cells": [
    {
      "cell_type": "markdown",
      "metadata": {
        "id": "view-in-github",
        "colab_type": "text"
      },
      "source": [
        "<a href=\"https://colab.research.google.com/github/juliocnsouzadev/datascience/blob/master/ML_Project_Skeleton.ipynb\" target=\"_parent\"><img src=\"https://colab.research.google.com/assets/colab-badge.svg\" alt=\"Open In Colab\"/></a>"
      ]
    },
    {
      "cell_type": "markdown",
      "metadata": {
        "id": "9zsgt1LDatJv",
        "colab_type": "text"
      },
      "source": [
        "# **<font color='green'> MACHINE LEARNING PROJECT SKELETON</font>**\n",
        "**This checklist can guide you through your Machine Learning projects.**\n",
        "<br><br>\n",
        "<font size='1'>*From the book:\n",
        "Géron, Aurélien. Hands-On Machine Learning with Scikit-Learn, Keras, and TensorFlow*"
      ]
    },
    {
      "cell_type": "markdown",
      "metadata": {
        "id": "KrUeP758bEds",
        "colab_type": "text"
      },
      "source": [
        "## <font color='orange'>Frame the Problem and Look at the Big Picture</font>"
      ]
    },
    {
      "cell_type": "markdown",
      "metadata": {
        "id": "RxmL161QbNJZ",
        "colab_type": "text"
      },
      "source": [
        "### Business Objectives"
      ]
    },
    {
      "cell_type": "markdown",
      "metadata": {
        "id": "gp3rLy8KdXqY",
        "colab_type": "text"
      },
      "source": [
        "### How this solution will be used?"
      ]
    },
    {
      "cell_type": "markdown",
      "metadata": {
        "id": "ac7l3Hcld3Zn",
        "colab_type": "text"
      },
      "source": [
        "### What are the current solutions/ workarounds (if any)? "
      ]
    },
    {
      "cell_type": "markdown",
      "metadata": {
        "id": "mZn0yuqqerDK",
        "colab_type": "text"
      },
      "source": [
        "### How should you frame this problem (supervised/ unsupervised, online/ offline, etc.)? "
      ]
    },
    {
      "cell_type": "markdown",
      "metadata": {
        "id": "hDji7FUZetPP",
        "colab_type": "text"
      },
      "source": [
        "### How should performance be measured? Is the performance measure aligned with the business objective? "
      ]
    },
    {
      "cell_type": "markdown",
      "metadata": {
        "id": "X4FQLZTeewtY",
        "colab_type": "text"
      },
      "source": [
        "### What would be the minimum performance needed to reach the business objective?"
      ]
    },
    {
      "cell_type": "markdown",
      "metadata": {
        "id": "awgH8xCVe0sY",
        "colab_type": "text"
      },
      "source": [
        " ### What are comparable problems? "
      ]
    },
    {
      "cell_type": "markdown",
      "metadata": {
        "id": "JCvBcTS1e5j5",
        "colab_type": "text"
      },
      "source": [
        "### Can you reuse experience or tools? Is human expertise available? "
      ]
    },
    {
      "cell_type": "markdown",
      "metadata": {
        "id": "Ar2rykcme89z",
        "colab_type": "text"
      },
      "source": [
        "### How would you solve the problem manually? "
      ]
    },
    {
      "cell_type": "markdown",
      "metadata": {
        "id": "SCRsJirvfAOn",
        "colab_type": "text"
      },
      "source": [
        "### List the assumptions you (or others) have made so far. "
      ]
    },
    {
      "cell_type": "markdown",
      "metadata": {
        "id": "QyWo0GeufDT5",
        "colab_type": "text"
      },
      "source": [
        "### Verify assumptions if possible."
      ]
    },
    {
      "cell_type": "markdown",
      "metadata": {
        "id": "rpzLeIaKfp49",
        "colab_type": "text"
      },
      "source": [
        "## <font color='orange'>Get the Data \n",
        "Note: automate as much as possible so you can easily get fresh data. "
      ]
    },
    {
      "cell_type": "markdown",
      "metadata": {
        "id": "-cdtf7t-gR3j",
        "colab_type": "text"
      },
      "source": [
        "### List the data you need and how much you need."
      ]
    },
    {
      "cell_type": "markdown",
      "metadata": {
        "id": "iVNS1Xw3gbTI",
        "colab_type": "text"
      },
      "source": [
        "### Find and document where you can get that data. "
      ]
    },
    {
      "cell_type": "markdown",
      "metadata": {
        "id": "zFa2JloaghVf",
        "colab_type": "text"
      },
      "source": [
        "### Check how much space it will take. "
      ]
    },
    {
      "cell_type": "markdown",
      "metadata": {
        "id": "ESryLl5QgmKV",
        "colab_type": "text"
      },
      "source": [
        "### Check legal obligations, and get authorization if necessary."
      ]
    },
    {
      "cell_type": "markdown",
      "metadata": {
        "id": "PaX95uBVg_Uz",
        "colab_type": "text"
      },
      "source": [
        "### Get access authorizations. "
      ]
    },
    {
      "cell_type": "markdown",
      "metadata": {
        "id": "orB4p05ShFsq",
        "colab_type": "text"
      },
      "source": [
        "### Create a workspace (with enough storage space). "
      ]
    },
    {
      "cell_type": "markdown",
      "metadata": {
        "id": "5iT-ElqjhK70",
        "colab_type": "text"
      },
      "source": [
        "### Get the data. Convert the data to a format you can easily manipulate (without changing the data itself). "
      ]
    },
    {
      "cell_type": "markdown",
      "metadata": {
        "id": "csbMqGVehQHc",
        "colab_type": "text"
      },
      "source": [
        "### Ensure sensitive information is deleted or protected (e.g., anonymized). "
      ]
    },
    {
      "cell_type": "markdown",
      "metadata": {
        "id": "aK1TzfCvhWtA",
        "colab_type": "text"
      },
      "source": [
        "### Check the size and type of data (time series, sample, geographical, etc.). "
      ]
    },
    {
      "cell_type": "markdown",
      "metadata": {
        "id": "WNWw41qvhcyt",
        "colab_type": "text"
      },
      "source": [
        "### Sample a test set, put it aside, and never look at it (no data snooping!)."
      ]
    },
    {
      "cell_type": "markdown",
      "metadata": {
        "id": "qIvLxzdzZzO4",
        "colab_type": "text"
      },
      "source": [
        "## <font color='orange'>Explore the Data \n",
        "Note: try to get insights from a field expert for these steps"
      ]
    },
    {
      "cell_type": "markdown",
      "metadata": {
        "id": "XnUc12NqaHQL",
        "colab_type": "text"
      },
      "source": [
        "### Create a copy of the data for exploration (sampling it down to a manageble size is necessary)"
      ]
    },
    {
      "cell_type": "markdown",
      "metadata": {
        "id": "3Rx5quc0aPsG",
        "colab_type": "text"
      },
      "source": [
        "### Create a Jupyter notebook to keep record of you data exploration"
      ]
    },
    {
      "cell_type": "markdown",
      "metadata": {
        "id": "zuICFOocab_E",
        "colab_type": "text"
      },
      "source": [
        "### Study each attribute and its characteristics:\n",
        "- Name\n",
        "- Type (categorical, int/float, bounded/unbounded, text, structured, etc)\n",
        "- % of missing values\n",
        "- Noisiness and type of noise (stochastic, outliers, rouding errors, etc)\n",
        "- Usefulness for the task\n",
        "- Type of distribution (Gaussian, uniorm, logarithmic, etc)"
      ]
    },
    {
      "cell_type": "markdown",
      "metadata": {
        "id": "0KSN5OvSbA4F",
        "colab_type": "text"
      },
      "source": [
        "### For supervised learning tasks, idenfy the target attribute(s)"
      ]
    },
    {
      "cell_type": "markdown",
      "metadata": {
        "id": "rlWpFu1PbTet",
        "colab_type": "text"
      },
      "source": [
        "### Visualize the data"
      ]
    },
    {
      "cell_type": "markdown",
      "metadata": {
        "id": "rc2-r2pUba4c",
        "colab_type": "text"
      },
      "source": [
        "### Study the correlations between attributes"
      ]
    },
    {
      "cell_type": "markdown",
      "metadata": {
        "id": "NsPO2v2Cbidu",
        "colab_type": "text"
      },
      "source": [
        "### Study houw you would solve the problem manually"
      ]
    },
    {
      "cell_type": "markdown",
      "metadata": {
        "id": "vpjBhaFobsKc",
        "colab_type": "text"
      },
      "source": [
        "### Identify the promissing tranformations you may want to apply"
      ]
    },
    {
      "cell_type": "markdown",
      "metadata": {
        "id": "UjYb6uKub1Nz",
        "colab_type": "text"
      },
      "source": [
        "### Identfy extra data that would be useful (go back to \"Get the Data)"
      ]
    },
    {
      "cell_type": "markdown",
      "metadata": {
        "id": "40tpw66GcBg9",
        "colab_type": "text"
      },
      "source": [
        "### Document what you have learned"
      ]
    },
    {
      "cell_type": "markdown",
      "metadata": {
        "id": "-gbnv60OcHYs",
        "colab_type": "text"
      },
      "source": [
        "## <font color='orange'>Prepare the Data \n",
        "Notes:\n",
        "- Work on copeid of the data (keep the original dataset intatct)\n",
        "- Write functions for all data transformations you apply."
      ]
    },
    {
      "cell_type": "markdown",
      "metadata": {
        "id": "sTRokMqrcjk1",
        "colab_type": "text"
      },
      "source": [
        "### Data Cleaning:\n",
        "- Fix or remove outliers (optional)\n",
        "- Fill in missing values (e.g., with zero, mean, median...) or drop the rows (or columns)"
      ]
    },
    {
      "cell_type": "markdown",
      "metadata": {
        "id": "pCMT2TQtc0Lb",
        "colab_type": "text"
      },
      "source": [
        "### Feature selection (optional)\n",
        "- Drop the attributes tha provide no useful information for the task"
      ]
    },
    {
      "cell_type": "markdown",
      "metadata": {
        "id": "Po3NcWWgeBge",
        "colab_type": "text"
      },
      "source": [
        "### Feature engineering, where apporprate:\n",
        "- Discretize continuous features\n",
        "- Decompose features (e.g., categorical, date/time, etc)\n",
        "- Add promissing tranformations of features (e.g., log(x), sqrt(x), x², etc)\n",
        "- Aggregate features into promissing new features"
      ]
    },
    {
      "cell_type": "markdown",
      "metadata": {
        "id": "Im-WcUfkegha",
        "colab_type": "text"
      },
      "source": [
        "### Feature scaling:\n",
        "- Standardize or normalize features"
      ]
    },
    {
      "cell_type": "markdown",
      "metadata": {
        "id": "NrvZKtQUeolk",
        "colab_type": "text"
      },
      "source": [
        "## <font color='orange'>Shortlist Promissing Models \n",
        "Notes:\n",
        "- If the data is huge, you may wante to sample smaller traning sets so you can train many differente models  in a reasonable time (be aware tha this penalizes complex models such as large neural nets ou Random Forests)\n",
        "- Once again, try to automate these steps as much as possible"
      ]
    },
    {
      "cell_type": "markdown",
      "metadata": {
        "id": "IPDCOOyBfHqZ",
        "colab_type": "text"
      },
      "source": [
        "### Train manu quiack-and-dirty models from differente categories (e.g., linear, naive Bayes, SVM, Random Forest, neural net,etc) using standar parameters. \n"
      ]
    },
    {
      "cell_type": "markdown",
      "metadata": {
        "id": "huYbY1rLfkWi",
        "colab_type": "text"
      },
      "source": [
        "### Measure and compare thei perfomance\n",
        "- For each model, use N-fold cross-validation and compute the mean and standar deviation of the performance measure on the Nfolds"
      ]
    },
    {
      "cell_type": "markdown",
      "metadata": {
        "id": "rSjRo6rkf16-",
        "colab_type": "text"
      },
      "source": [
        "### Analyse the most significant variables for each algorithm"
      ]
    },
    {
      "cell_type": "markdown",
      "metadata": {
        "id": "TE3x2LQxf83c",
        "colab_type": "text"
      },
      "source": [
        "### Analyse the most significant variables for each algorithm"
      ]
    },
    {
      "cell_type": "markdown",
      "metadata": {
        "id": "KDaW5BItgGKb",
        "colab_type": "text"
      },
      "source": [
        "### Analyse the types of errors the models make\n",
        "- What data would a human have used to avoid these errors?"
      ]
    },
    {
      "cell_type": "markdown",
      "metadata": {
        "id": "NyPWiw1SgYHK",
        "colab_type": "text"
      },
      "source": [
        "### Performa a quick round of feature selection and enginneering"
      ]
    },
    {
      "cell_type": "markdown",
      "metadata": {
        "id": "yIa1RbC-gfwP",
        "colab_type": "text"
      },
      "source": [
        "### Perfom one or tow more quick iterations of the five previous steps"
      ]
    },
    {
      "cell_type": "markdown",
      "metadata": {
        "id": "-_dKfW5NgnQg",
        "colab_type": "text"
      },
      "source": [
        "### Shortlist the top 3 to 5 most promissing models, prefering models that make differet types of erros"
      ]
    },
    {
      "cell_type": "markdown",
      "metadata": {
        "id": "wPeP33yTgzq2",
        "colab_type": "text"
      },
      "source": [
        "## <font color='orange'>Fine-Tune the System \n",
        "Notes: \n",
        "- You will want to use as much data as possible for this step, especially as you move toward the end of fine-tuning.\n",
        "- As always, automate what you can."
      ]
    },
    {
      "cell_type": "markdown",
      "metadata": {
        "id": "CFGpehqEzVoA",
        "colab_type": "text"
      },
      "source": [
        "### Fine-tune hyperparamenters using cross-validaton:\n",
        "- Treat you data transformation choices as hyperparameters especially when you are no sure about them (e.g., if your're not sure whether to replace missing values with zeros or with the median value, or just drop the rows).\n",
        "- Unless ther are very few hyperparmenter values to explore, prefer random search over grid search. If training is very long, you may prefer a Baysian optmization approach (e.g., using Gaussian process priors)"
      ]
    },
    {
      "cell_type": "markdown",
      "metadata": {
        "id": "4ypVXHmS0Nqj",
        "colab_type": "text"
      },
      "source": [
        "### Try to Ensemble methods. Combining you best models will often produce better performance than runnig them individually."
      ]
    },
    {
      "cell_type": "markdown",
      "metadata": {
        "id": "06ZW5YiZ0rK-",
        "colab_type": "text"
      },
      "source": [
        "### Once you are confident about you final model, measure its performance on the test set to estimate the generalization error."
      ]
    },
    {
      "cell_type": "markdown",
      "metadata": {
        "id": "Y4PMqMh60-MX",
        "colab_type": "text"
      },
      "source": [
        "### <font color='yellow'> *Warning*\n",
        "Don't tweak your model after measuring the generalization error: you would just start overfiting the test set."
      ]
    },
    {
      "cell_type": "markdown",
      "metadata": {
        "id": "4VmgdHWn1q3R",
        "colab_type": "text"
      },
      "source": [
        "## <font color='orange'>Present Your Solution"
      ]
    },
    {
      "cell_type": "markdown",
      "metadata": {
        "id": "U_ImhnPU1xkd",
        "colab_type": "text"
      },
      "source": [
        "### Document what you have done"
      ]
    },
    {
      "cell_type": "markdown",
      "metadata": {
        "id": "giXnF6Gk11J0",
        "colab_type": "text"
      },
      "source": [
        "### Create a nice presentation\n",
        "- Make sure you highlight the big picture first"
      ]
    },
    {
      "cell_type": "markdown",
      "metadata": {
        "id": "DyFszDXK2ChT",
        "colab_type": "text"
      },
      "source": [
        "### Explain why your solution achieves the business objective"
      ]
    },
    {
      "cell_type": "markdown",
      "metadata": {
        "id": "VuDsMtDa2JNl",
        "colab_type": "text"
      },
      "source": [
        "### Don't forget to present interesting points you noticed along the way\n",
        "- Describe what workedt an what did not\n",
        "- List you assumptions and your system's limitations"
      ]
    },
    {
      "cell_type": "markdown",
      "metadata": {
        "id": "2OzaH7Wr2dL9",
        "colab_type": "text"
      },
      "source": [
        "### Ensure your key findings are communicated through beatiful vizualizations or easy-to-remember statement (e.g., \"the median income is the number -one predictor of house prices\")"
      ]
    },
    {
      "cell_type": "markdown",
      "metadata": {
        "id": "gzjlLpF22x-Y",
        "colab_type": "text"
      },
      "source": [
        "## <font color='orange'>Lunch!"
      ]
    },
    {
      "cell_type": "markdown",
      "metadata": {
        "id": "BYSj3VR4217X",
        "colab_type": "text"
      },
      "source": [
        "### Get your solution ready for production (plug into prodution data inputs, write unit tests, etc)"
      ]
    },
    {
      "cell_type": "markdown",
      "metadata": {
        "id": "uh-TnQ7f3Azj",
        "colab_type": "text"
      },
      "source": [
        "### Write monitoring code to check you systems's live performance at regular intervals and trigger alerts when it drops.\n",
        "- Beware of slow degradation: models tend to \"rot\" as data evolvers.\n",
        "- Measuring perfomrance may require a human pipeline (e.g., via a crowssourcing service).\n",
        "- Also monitor your inputs' quality (e.g, a malfunctionaing sensor sending random valuew, or another team's output becoming stale). This is particularly important for online learning systems."
      ]
    },
    {
      "cell_type": "markdown",
      "metadata": {
        "id": "ZhZ-EI0r4DUN",
        "colab_type": "text"
      },
      "source": [
        "### Retrain your models on regular basis on fresh data (automate as much as possible)."
      ]
    },
    {
      "cell_type": "code",
      "metadata": {
        "id": "fx63oSahbQBH",
        "colab_type": "code",
        "colab": {}
      },
      "source": [
        ""
      ],
      "execution_count": 0,
      "outputs": []
    }
  ]
}