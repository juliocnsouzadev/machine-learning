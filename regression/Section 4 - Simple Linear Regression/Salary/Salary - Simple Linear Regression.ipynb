{
 "cells": [
  {
   "cell_type": "code",
   "execution_count": 1,
   "metadata": {
    "collapsed": true
   },
   "outputs": [],
   "source": [
    "import numpy as np\n",
    "import matplotlib.pyplot as plt\n",
    "import pandas as pd\n",
    "\n",
    "import seaborn as sns\n",
    "import matplotlib.pyplot as plt\n",
    "\n",
    "%matplotlib inline\n",
    "plt.style.use('fivethirtyeight')\n",
    "plt.rcParams['figure.figsize'] = (15,5)"
   ]
  },
  {
   "cell_type": "code",
   "execution_count": 2,
   "metadata": {
    "collapsed": true
   },
   "outputs": [],
   "source": [
    "df = pd.read_csv('Salary_Data.csv')"
   ]
  },
  {
   "cell_type": "markdown",
   "metadata": {},
   "source": [
    "## Exploring the Data"
   ]
  },
  {
   "cell_type": "markdown",
   "metadata": {},
   "source": [
    "#### taking a look at the data"
   ]
  },
  {
   "cell_type": "code",
   "execution_count": 3,
   "metadata": {},
   "outputs": [
    {
     "data": {
      "text/html": [
       "<div>\n",
       "<style>\n",
       "    .dataframe thead tr:only-child th {\n",
       "        text-align: right;\n",
       "    }\n",
       "\n",
       "    .dataframe thead th {\n",
       "        text-align: left;\n",
       "    }\n",
       "\n",
       "    .dataframe tbody tr th {\n",
       "        vertical-align: top;\n",
       "    }\n",
       "</style>\n",
       "<table border=\"1\" class=\"dataframe\">\n",
       "  <thead>\n",
       "    <tr style=\"text-align: right;\">\n",
       "      <th></th>\n",
       "      <th>YearsExperience</th>\n",
       "      <th>Salary</th>\n",
       "    </tr>\n",
       "  </thead>\n",
       "  <tbody>\n",
       "    <tr>\n",
       "      <th>0</th>\n",
       "      <td>1.1</td>\n",
       "      <td>39343.0</td>\n",
       "    </tr>\n",
       "    <tr>\n",
       "      <th>1</th>\n",
       "      <td>1.3</td>\n",
       "      <td>46205.0</td>\n",
       "    </tr>\n",
       "    <tr>\n",
       "      <th>2</th>\n",
       "      <td>1.5</td>\n",
       "      <td>37731.0</td>\n",
       "    </tr>\n",
       "    <tr>\n",
       "      <th>3</th>\n",
       "      <td>2.0</td>\n",
       "      <td>43525.0</td>\n",
       "    </tr>\n",
       "    <tr>\n",
       "      <th>4</th>\n",
       "      <td>2.2</td>\n",
       "      <td>39891.0</td>\n",
       "    </tr>\n",
       "  </tbody>\n",
       "</table>\n",
       "</div>"
      ],
      "text/plain": [
       "   YearsExperience   Salary\n",
       "0              1.1  39343.0\n",
       "1              1.3  46205.0\n",
       "2              1.5  37731.0\n",
       "3              2.0  43525.0\n",
       "4              2.2  39891.0"
      ]
     },
     "execution_count": 3,
     "metadata": {},
     "output_type": "execute_result"
    }
   ],
   "source": [
    "df.head()"
   ]
  },
  {
   "cell_type": "markdown",
   "metadata": {},
   "source": [
    "#### some description of the data"
   ]
  },
  {
   "cell_type": "code",
   "execution_count": 4,
   "metadata": {},
   "outputs": [
    {
     "data": {
      "text/html": [
       "<div>\n",
       "<style>\n",
       "    .dataframe thead tr:only-child th {\n",
       "        text-align: right;\n",
       "    }\n",
       "\n",
       "    .dataframe thead th {\n",
       "        text-align: left;\n",
       "    }\n",
       "\n",
       "    .dataframe tbody tr th {\n",
       "        vertical-align: top;\n",
       "    }\n",
       "</style>\n",
       "<table border=\"1\" class=\"dataframe\">\n",
       "  <thead>\n",
       "    <tr style=\"text-align: right;\">\n",
       "      <th></th>\n",
       "      <th>YearsExperience</th>\n",
       "      <th>Salary</th>\n",
       "    </tr>\n",
       "  </thead>\n",
       "  <tbody>\n",
       "    <tr>\n",
       "      <th>count</th>\n",
       "      <td>30.000000</td>\n",
       "      <td>30.000000</td>\n",
       "    </tr>\n",
       "    <tr>\n",
       "      <th>mean</th>\n",
       "      <td>5.313333</td>\n",
       "      <td>76003.000000</td>\n",
       "    </tr>\n",
       "    <tr>\n",
       "      <th>std</th>\n",
       "      <td>2.837888</td>\n",
       "      <td>27414.429785</td>\n",
       "    </tr>\n",
       "    <tr>\n",
       "      <th>min</th>\n",
       "      <td>1.100000</td>\n",
       "      <td>37731.000000</td>\n",
       "    </tr>\n",
       "    <tr>\n",
       "      <th>25%</th>\n",
       "      <td>3.200000</td>\n",
       "      <td>56720.750000</td>\n",
       "    </tr>\n",
       "    <tr>\n",
       "      <th>50%</th>\n",
       "      <td>4.700000</td>\n",
       "      <td>65237.000000</td>\n",
       "    </tr>\n",
       "    <tr>\n",
       "      <th>75%</th>\n",
       "      <td>7.700000</td>\n",
       "      <td>100544.750000</td>\n",
       "    </tr>\n",
       "    <tr>\n",
       "      <th>max</th>\n",
       "      <td>10.500000</td>\n",
       "      <td>122391.000000</td>\n",
       "    </tr>\n",
       "  </tbody>\n",
       "</table>\n",
       "</div>"
      ],
      "text/plain": [
       "       YearsExperience         Salary\n",
       "count        30.000000      30.000000\n",
       "mean          5.313333   76003.000000\n",
       "std           2.837888   27414.429785\n",
       "min           1.100000   37731.000000\n",
       "25%           3.200000   56720.750000\n",
       "50%           4.700000   65237.000000\n",
       "75%           7.700000  100544.750000\n",
       "max          10.500000  122391.000000"
      ]
     },
     "execution_count": 4,
     "metadata": {},
     "output_type": "execute_result"
    }
   ],
   "source": [
    "df.describe()"
   ]
  },
  {
   "cell_type": "markdown",
   "metadata": {},
   "source": [
    "#### Correltation between the data"
   ]
  },
  {
   "cell_type": "code",
   "execution_count": 5,
   "metadata": {},
   "outputs": [
    {
     "data": {
      "text/html": [
       "<div>\n",
       "<style>\n",
       "    .dataframe thead tr:only-child th {\n",
       "        text-align: right;\n",
       "    }\n",
       "\n",
       "    .dataframe thead th {\n",
       "        text-align: left;\n",
       "    }\n",
       "\n",
       "    .dataframe tbody tr th {\n",
       "        vertical-align: top;\n",
       "    }\n",
       "</style>\n",
       "<table border=\"1\" class=\"dataframe\">\n",
       "  <thead>\n",
       "    <tr style=\"text-align: right;\">\n",
       "      <th></th>\n",
       "      <th>YearsExperience</th>\n",
       "      <th>Salary</th>\n",
       "    </tr>\n",
       "  </thead>\n",
       "  <tbody>\n",
       "    <tr>\n",
       "      <th>YearsExperience</th>\n",
       "      <td>1.000000</td>\n",
       "      <td>0.978242</td>\n",
       "    </tr>\n",
       "    <tr>\n",
       "      <th>Salary</th>\n",
       "      <td>0.978242</td>\n",
       "      <td>1.000000</td>\n",
       "    </tr>\n",
       "  </tbody>\n",
       "</table>\n",
       "</div>"
      ],
      "text/plain": [
       "                 YearsExperience    Salary\n",
       "YearsExperience         1.000000  0.978242\n",
       "Salary                  0.978242  1.000000"
      ]
     },
     "execution_count": 5,
     "metadata": {},
     "output_type": "execute_result"
    }
   ],
   "source": [
    "df.corr()"
   ]
  },
  {
   "cell_type": "code",
   "execution_count": 6,
   "metadata": {},
   "outputs": [
    {
     "data": {
      "text/plain": [
       "<matplotlib.axes._subplots.AxesSubplot at 0x22ba0c11cc0>"
      ]
     },
     "execution_count": 6,
     "metadata": {},
     "output_type": "execute_result"
    },
    {
     "data": {
      "image/png": "[encoded data removed]",
      "text/plain": [
       "<matplotlib.figure.Figure at 0x22ba0c11748>"
      ]
     },
     "metadata": {},
     "output_type": "display_data"
    }
   ],
   "source": [
    "sns.heatmap(df.corr(), cmap='coolwarm', annot=True)"
   ]
  },
  {
   "cell_type": "markdown",
   "metadata": {},
   "source": [
    "## Pre Processing"
   ]
  },
  {
   "cell_type": "code",
   "execution_count": 7,
   "metadata": {
    "collapsed": true
   },
   "outputs": [],
   "source": [
    "X = df['YearsExperience'].values.reshape(-1, 1)\n",
    "y = df['Salary'].values.reshape(-1, 1)"
   ]
  },
  {
   "cell_type": "markdown",
   "metadata": {},
   "source": [
    "#### Dealing with missing data"
   ]
  },
  {
   "cell_type": "code",
   "execution_count": 8,
   "metadata": {
    "collapsed": true
   },
   "outputs": [],
   "source": [
    "# replacing missing data with he mean of the colum\n",
    "from sklearn.preprocessing import Imputer\n",
    "imputer = Imputer(missing_values='NaN', strategy='mean', axis=0)\n",
    "# select the misssing data columns to fit\n",
    "imputer = imputer.fit(X)\n",
    "X = imputer.transform(X)"
   ]
  },
  {
   "cell_type": "markdown",
   "metadata": {},
   "source": [
    "## Model and Training"
   ]
  },
  {
   "cell_type": "code",
   "execution_count": 9,
   "metadata": {
    "collapsed": true
   },
   "outputs": [],
   "source": [
    "from sklearn.model_selection import train_test_split"
   ]
  },
  {
   "cell_type": "code",
   "execution_count": 10,
   "metadata": {
    "collapsed": true
   },
   "outputs": [],
   "source": [
    "X_train, X_test, y_train, y_test = train_test_split(X, y, test_size=1/3, random_state=0)"
   ]
  },
  {
   "cell_type": "code",
   "execution_count": 11,
   "metadata": {},
   "outputs": [
    {
     "data": {
      "text/plain": [
       "LinearRegression(copy_X=True, fit_intercept=True, n_jobs=1, normalize=False)"
      ]
     },
     "execution_count": 11,
     "metadata": {},
     "output_type": "execute_result"
    }
   ],
   "source": [
    "from sklearn.linear_model import LinearRegression\n",
    "model = LinearRegression()\n",
    "model.fit(X_train, y_train)"
   ]
  },
  {
   "cell_type": "code",
   "execution_count": 47,
   "metadata": {},
   "outputs": [
    {
     "data": {
      "text/plain": [
       "Text(0,0.5,'Salary')"
      ]
     },
     "execution_count": 47,
     "metadata": {},
     "output_type": "execute_result"
    },
    {
     "data": {
      "image/png": "[encoded data removed]",
      "text/plain": [
       "<matplotlib.figure.Figure at 0x22ba2bccf28>"
      ]
     },
     "metadata": {},
     "output_type": "display_data"
    }
   ],
   "source": [
    "plt.clf()\n",
    "plt.plot(X_train, model.predict(X_train), color=\"black\", alpha=0.75)\n",
    "plt.scatter(X_train, y_train, marker='s', s=70, color=\"blue\", label=\"train data\")\n",
    "plt.scatter(X_test, y_test, marker='o', s=150, color=\"red\", label=\"test data\")\n",
    "plt.legend(loc=2)\n",
    "plt.xlabel(\"Years of Experience\")\n",
    "plt.ylabel(\"Salary\")"
   ]
  },
  {
   "cell_type": "markdown",
   "metadata": {},
   "source": [
    "## Predicting/ Slope / Intecept / Score (r^2)"
   ]
  },
  {
   "cell_type": "code",
   "execution_count": 17,
   "metadata": {},
   "outputs": [
    {
     "name": "stdout",
     "output_type": "stream",
     "text": [
      "Predict Salary for 1.1 years of experience is be $37096.73\n",
      "Real Salary for 1.1 years of experience is be $39343.00\n",
      "Difference of $2246.27 ->  1.06 %\n",
      "\n",
      "Predict Salary for 1.3 years of experience is be $38965.92\n",
      "Real Salary for 1.3 years of experience is be $46205.00\n",
      "Difference of $7239.08 ->  1.19 %\n",
      "\n",
      "Predict Salary for 1.5 years of experience is be $40835.11\n",
      "Real Salary for 1.5 years of experience is be $37731.00\n",
      "Difference of $-3104.11 ->  0.92 %\n",
      "\n",
      "Predict Salary for 2.0 years of experience is be $45508.08\n",
      "Real Salary for 2.0 years of experience is be $43525.00\n",
      "Difference of $-1983.08 ->  0.96 %\n",
      "\n",
      "Predict Salary for 2.2 years of experience is be $47377.27\n",
      "Real Salary for 2.2 years of experience is be $39891.00\n",
      "Difference of $-7486.27 ->  0.84 %\n",
      "\n",
      "Predict Salary for 2.9 years of experience is be $53919.43\n",
      "Real Salary for 2.9 years of experience is be $56642.00\n",
      "Difference of $2722.57 ->  1.05 %\n",
      "\n",
      "Predict Salary for 3.0 years of experience is be $54854.02\n",
      "Real Salary for 3.0 years of experience is be $60150.00\n",
      "Difference of $5295.98 ->  1.10 %\n",
      "\n",
      "Predict Salary for 3.2 years of experience is be $56723.21\n",
      "Real Salary for 3.2 years of experience is be $54445.00\n",
      "Difference of $-2278.21 ->  0.96 %\n",
      "\n",
      "Predict Salary for 3.2 years of experience is be $56723.21\n",
      "Real Salary for 3.2 years of experience is be $64445.00\n",
      "Difference of $7721.79 ->  1.14 %\n",
      "\n",
      "Predict Salary for 3.7 years of experience is be $61396.18\n",
      "Real Salary for 3.7 years of experience is be $57189.00\n",
      "Difference of $-4207.18 ->  0.93 %\n",
      "\n",
      "Predict Salary for 3.9 years of experience is be $63265.37\n",
      "Real Salary for 3.9 years of experience is be $63218.00\n",
      "Difference of $-47.37 ->  1.00 %\n",
      "\n",
      "Predict Salary for 4.0 years of experience is be $64199.96\n",
      "Real Salary for 4.0 years of experience is be $55794.00\n",
      "Difference of $-8405.96 ->  0.87 %\n",
      "\n",
      "Predict Salary for 4.0 years of experience is be $64199.96\n",
      "Real Salary for 4.0 years of experience is be $56957.00\n",
      "Difference of $-7242.96 ->  0.89 %\n",
      "\n",
      "Predict Salary for 4.1 years of experience is be $65134.56\n",
      "Real Salary for 4.1 years of experience is be $57081.00\n",
      "Difference of $-8053.56 ->  0.88 %\n",
      "\n",
      "Predict Salary for 4.5 years of experience is be $68872.93\n",
      "Real Salary for 4.5 years of experience is be $61111.00\n",
      "Difference of $-7761.93 ->  0.89 %\n",
      "\n",
      "Predict Salary for 4.9 years of experience is be $72611.31\n",
      "Real Salary for 4.9 years of experience is be $67938.00\n",
      "Difference of $-4673.31 ->  0.94 %\n",
      "\n",
      "Predict Salary for 5.1 years of experience is be $74480.50\n",
      "Real Salary for 5.1 years of experience is be $66029.00\n",
      "Difference of $-8451.50 ->  0.89 %\n",
      "\n",
      "Predict Salary for 5.3 years of experience is be $76349.69\n",
      "Real Salary for 5.3 years of experience is be $83088.00\n",
      "Difference of $6738.31 ->  1.09 %\n",
      "\n",
      "Predict Salary for 5.9 years of experience is be $81957.25\n",
      "Real Salary for 5.9 years of experience is be $81363.00\n",
      "Difference of $-594.25 ->  0.99 %\n",
      "\n",
      "Predict Salary for 6.0 years of experience is be $82891.85\n",
      "Real Salary for 6.0 years of experience is be $93940.00\n",
      "Difference of $11048.15 ->  1.13 %\n",
      "\n",
      "Predict Salary for 6.8 years of experience is be $90368.60\n",
      "Real Salary for 6.8 years of experience is be $91738.00\n",
      "Difference of $1369.40 ->  1.02 %\n",
      "\n",
      "Predict Salary for 7.1 years of experience is be $93172.38\n",
      "Real Salary for 7.1 years of experience is be $98273.00\n",
      "Difference of $5100.62 ->  1.05 %\n",
      "\n",
      "Predict Salary for 7.9 years of experience is be $100649.14\n",
      "Real Salary for 7.9 years of experience is be $101302.00\n",
      "Difference of $652.86 ->  1.01 %\n",
      "\n",
      "Predict Salary for 8.2 years of experience is be $103452.92\n",
      "Real Salary for 8.2 years of experience is be $113812.00\n",
      "Difference of $10359.08 ->  1.10 %\n",
      "\n",
      "Predict Salary for 8.7 years of experience is be $108125.89\n",
      "Real Salary for 8.7 years of experience is be $109431.00\n",
      "Difference of $1305.11 ->  1.01 %\n",
      "\n",
      "Predict Salary for 9.0 years of experience is be $110929.67\n",
      "Real Salary for 9.0 years of experience is be $105582.00\n",
      "Difference of $-5347.67 ->  0.95 %\n",
      "\n",
      "Predict Salary for 9.5 years of experience is be $115602.65\n",
      "Real Salary for 9.5 years of experience is be $116969.00\n",
      "Difference of $1366.35 ->  1.01 %\n",
      "\n",
      "Predict Salary for 9.6 years of experience is be $116537.24\n",
      "Real Salary for 9.6 years of experience is be $112635.00\n",
      "Difference of $-3902.24 ->  0.97 %\n",
      "\n",
      "Predict Salary for 10.3 years of experience is be $123079.40\n",
      "Real Salary for 10.3 years of experience is be $122391.00\n",
      "Difference of $-688.40 ->  0.99 %\n",
      "\n",
      "Predict Salary for 10.5 years of experience is be $124948.59\n",
      "Real Salary for 10.5 years of experience is be $121872.00\n",
      "Difference of $-3076.59 ->  0.98 %\n",
      "\n",
      "Slope: $9345.94\n",
      "Intercept: $26816.19\n",
      "Test Score (r^2): 0.97\n",
      "Training Score (r^2): 0.94\n",
      "\n",
      "\n",
      "\n",
      "\n",
      "\n",
      "\n",
      "\n"
     ]
    }
   ],
   "source": [
    "for i,years in enumerate(X) :\n",
    "    pred = model.predict(years.reshape(-1, 1))[0][0]\n",
    "    real = y[i][0]\n",
    "    diff =  real - pred\n",
    "    percent = real / pred\n",
    "    print(\"Predict Salary for \" + str(years[0]) + \" years of experience is be ${0:.2f}\".format(pred) )\n",
    "    print(\"Real Salary for \" + str(years[0]) + \" years of experience is be ${0:.2f}\".format(real) )\n",
    "    print(\"Difference of ${0:.2f}\".format(diff) + \" ->  {0:.2f}\".format(percent) + \" %\" )\n",
    "    print(\"\")\n",
    "\n",
    "print(\"Slope: ${0:.2f}\".format(model.coef_[0][0]))\n",
    "print(\"Intercept: ${0:.2f}\".format( model.intercept_[0]))\n",
    "print(\"Test Score (r^2): {0:.2f}\".format(model.score(X_test, y_test)))\n",
    "print(\"Training Score (r^2): {0:.2f}\".format(model.score(X_train, y_train)))\n",
    "print(\"\\n\\n\\n\\n\\n\\n\")"
   ]
  }
 ],
 "metadata": {
  "kernelspec": {
   "display_name": "Python 3",
   "language": "python",
   "name": "python3"
  },
  "language_info": {
   "codemirror_mode": {
    "name": "ipython",
    "version": 3
   },
   "file_extension": ".py",
   "mimetype": "text/x-python",
   "name": "python",
   "nbconvert_exporter": "python",
   "pygments_lexer": "ipython3",
   "version": "3.6.3"
  }
 },
 "nbformat": 4,
 "nbformat_minor": 2
}
