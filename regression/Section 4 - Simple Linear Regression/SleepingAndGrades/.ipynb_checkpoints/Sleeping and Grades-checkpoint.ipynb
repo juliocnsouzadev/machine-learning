{
 "cells": [
  {
   "cell_type": "code",
   "execution_count": 3,
   "metadata": {
    "collapsed": true
   },
   "outputs": [],
   "source": [
    "import numpy as np\n",
    "\n",
    "sleep = [5,6,7,8,10]\n",
    "scores = [65,51,75,75,86]"
   ]
  },
  {
   "cell_type": "code",
   "execution_count": 15,
   "metadata": {
    "collapsed": true
   },
   "outputs": [],
   "source": [
    "def compute_regression(sleep,scores):\n",
    "\n",
    "    #\tFirst, compute the average amount of each list\n",
    "    avg_sleep = np.array(sleep).mean()\n",
    "    avg_scores = np.array(scores).mean()\n",
    "\n",
    "    #\tThen normalize the lists by subtracting the mean value from each entry\n",
    "\n",
    "    normalized_sleep = [x-avg_sleep for x in sleep]\n",
    "    normalized_scores = [x-avg_scores for x in scores]\n",
    "\n",
    "    #\tCompute the slope of the line by taking the sum over each student\n",
    "    #\tof the product of their normalized sleep times their normalized test score.\n",
    "    #\tThen divide this by the sum of squares of the normalized sleep times.\n",
    "    \n",
    "    products = [x * normalized_scores[i] for i,x in enumerate(normalized_sleep) ]\n",
    "    product_sum = np.array(products).sum()\n",
    "    squares = [x*x for x in normalized_sleep]\n",
    "    squares_sum = np.array(squares).sum() \n",
    "    slope = product_sum / squares_sum\n",
    "\n",
    "    #\tFinally, We have a linear function of the form\n",
    "    #\ty - avg_y = slope * ( x - avg_x )\n",
    "    #\tRewrite this function in the form\n",
    "    #\ty = m * x + b\n",
    "    #\tThen return the values m, b\n",
    "    m = slope\n",
    "    b = avg_scores - (slope * avg_sleep)\n",
    "    return m,b"
   ]
  },
  {
   "cell_type": "code",
   "execution_count": 16,
   "metadata": {},
   "outputs": [
    {
     "name": "stdout",
     "output_type": "stream",
     "text": [
      "Your linear model is y=5.513513513513513*x+30.70270270270271\n"
     ]
    }
   ],
   "source": [
    "m,b = compute_regression(sleep,scores)\n",
    "print (\"Your linear model is y={}*x+{}\".format(m,b))"
   ]
  },
  {
   "cell_type": "code",
   "execution_count": null,
   "metadata": {
    "collapsed": true
   },
   "outputs": [],
   "source": []
  }
 ],
 "metadata": {
  "kernelspec": {
   "display_name": "Python 3",
   "language": "python",
   "name": "python3"
  },
  "language_info": {
   "codemirror_mode": {
    "name": "ipython",
    "version": 3
   },
   "file_extension": ".py",
   "mimetype": "text/x-python",
   "name": "python",
   "nbconvert_exporter": "python",
   "pygments_lexer": "ipython3",
   "version": "3.6.3"
  }
 },
 "nbformat": 4,
 "nbformat_minor": 2
}
